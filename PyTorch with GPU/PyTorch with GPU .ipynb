{
 "cells": [
  {
   "cell_type": "code",
   "execution_count": 1,
   "id": "99d0f454",
   "metadata": {},
   "outputs": [
    {
     "data": {
      "text/plain": [
       "True"
      ]
     },
     "execution_count": 1,
     "metadata": {},
     "output_type": "execute_result"
    }
   ],
   "source": [
    "import torch\n",
    "torch.cuda.is_available()"
   ]
  },
  {
   "cell_type": "code",
   "execution_count": 2,
   "id": "9f403733",
   "metadata": {},
   "outputs": [
    {
     "data": {
      "text/plain": [
       "0"
      ]
     },
     "execution_count": 2,
     "metadata": {},
     "output_type": "execute_result"
    }
   ],
   "source": [
    "torch.cuda.current_device()"
   ]
  },
  {
   "cell_type": "code",
   "execution_count": 3,
   "id": "00f6fd78",
   "metadata": {},
   "outputs": [
    {
     "data": {
      "text/plain": [
       "'GeForce RTX 3060 Laptop GPU'"
      ]
     },
     "execution_count": 3,
     "metadata": {},
     "output_type": "execute_result"
    }
   ],
   "source": [
    "torch.cuda.get_device_name(0)"
   ]
  },
  {
   "cell_type": "markdown",
   "id": "1cdbee4d",
   "metadata": {},
   "source": [
    "## Sending Models to GPU"
   ]
  },
  {
   "cell_type": "code",
   "execution_count": 4,
   "id": "b87ed8c8",
   "metadata": {},
   "outputs": [],
   "source": [
    "import torch\n",
    "import torch.nn as nn\n",
    "import torch.nn.functional as F\n",
    "from torch.utils.data import Dataset, DataLoader\n",
    "from sklearn.model_selection import train_test_split\n",
    "\n",
    "import pandas as pd\n",
    "import matplotlib.pyplot as plt\n",
    "%matplotlib inline"
   ]
  },
  {
   "cell_type": "code",
   "execution_count": 5,
   "id": "d093a74b",
   "metadata": {},
   "outputs": [],
   "source": [
    "class Model(nn.Module):\n",
    "    def __init__(self, in_features=4, h1=8, h2=9, out_features=3):\n",
    "        super().__init__()\n",
    "        self.fc1 = nn.Linear(in_features,h1)    \n",
    "        self.fc2 = nn.Linear(h1, h2)            \n",
    "        self.out = nn.Linear(h2, out_features)  \n",
    "        \n",
    "    def forward(self, x):\n",
    "        x = F.relu(self.fc1(x))\n",
    "        x = F.relu(self.fc2(x))\n",
    "        x = self.out(x)\n",
    "        return x"
   ]
  },
  {
   "cell_type": "code",
   "execution_count": 6,
   "id": "2cee1421",
   "metadata": {},
   "outputs": [],
   "source": [
    "torch.manual_seed(32)\n",
    "model = Model()"
   ]
  },
  {
   "cell_type": "code",
   "execution_count": 7,
   "id": "a01eec3a",
   "metadata": {},
   "outputs": [
    {
     "data": {
      "text/plain": [
       "False"
      ]
     },
     "execution_count": 7,
     "metadata": {},
     "output_type": "execute_result"
    }
   ],
   "source": [
    "next(model.parameters()).is_cuda"
   ]
  },
  {
   "cell_type": "code",
   "execution_count": 8,
   "id": "39e8d3f9",
   "metadata": {},
   "outputs": [],
   "source": [
    "gpumodel = model.cuda()"
   ]
  },
  {
   "cell_type": "code",
   "execution_count": 9,
   "id": "af77764b",
   "metadata": {},
   "outputs": [
    {
     "data": {
      "text/plain": [
       "True"
      ]
     },
     "execution_count": 9,
     "metadata": {},
     "output_type": "execute_result"
    }
   ],
   "source": [
    "next(gpumodel.parameters()).is_cuda"
   ]
  },
  {
   "cell_type": "code",
   "execution_count": 11,
   "id": "ad240f8c",
   "metadata": {},
   "outputs": [],
   "source": [
    "df = pd.read_csv('iris.csv')\n",
    "X = df.drop('target',axis=1).values\n",
    "y = df['target'].values\n",
    "X_train, X_test, y_train, y_test = train_test_split(X,y,test_size=0.2,random_state=33)"
   ]
  },
  {
   "cell_type": "markdown",
   "id": "4e550884",
   "metadata": {},
   "source": [
    "## Converting Tensors to .cuda() tensors"
   ]
  },
  {
   "cell_type": "code",
   "execution_count": 12,
   "id": "f576b81a",
   "metadata": {},
   "outputs": [],
   "source": [
    "X_train = torch.FloatTensor(X_train).cuda()\n",
    "X_test = torch.FloatTensor(X_test).cuda()\n",
    "y_train = torch.LongTensor(y_train).cuda()\n",
    "y_test = torch.LongTensor(y_test).cuda()"
   ]
  },
  {
   "cell_type": "code",
   "execution_count": 13,
   "id": "e542e211",
   "metadata": {},
   "outputs": [],
   "source": [
    "trainloader = DataLoader(X_train, batch_size=60, shuffle=True)\n",
    "testloader = DataLoader(X_test, batch_size=60, shuffle=False)"
   ]
  },
  {
   "cell_type": "code",
   "execution_count": 14,
   "id": "dc2e75ba",
   "metadata": {},
   "outputs": [],
   "source": [
    "criterion = nn.CrossEntropyLoss()\n",
    "optimizer = torch.optim.Adam(model.parameters(), lr=0.01)"
   ]
  },
  {
   "cell_type": "code",
   "execution_count": 15,
   "id": "a4a5aced",
   "metadata": {},
   "outputs": [
    {
     "name": "stdout",
     "output_type": "stream",
     "text": [
      "epoch:  1  loss: 1.15069771\n",
      "epoch: 11  loss: 0.93772912\n",
      "epoch: 21  loss: 0.77980196\n",
      "epoch: 31  loss: 0.61059004\n",
      "epoch: 41  loss: 0.40147230\n",
      "epoch: 51  loss: 0.25468495\n",
      "epoch: 61  loss: 0.15076803\n",
      "epoch: 71  loss: 0.10109342\n",
      "epoch: 81  loss: 0.08147227\n",
      "epoch: 91  loss: 0.07254115\n",
      "epoch: 101  loss: 0.06736170\n",
      "epoch: 111  loss: 0.06382950\n",
      "epoch: 121  loss: 0.06114199\n",
      "epoch: 131  loss: 0.05885541\n",
      "epoch: 141  loss: 0.05726259\n",
      "epoch: 151  loss: 0.05572830\n",
      "epoch: 161  loss: 0.05455634\n",
      "epoch: 171  loss: 0.05339395\n",
      "epoch: 181  loss: 0.05245451\n",
      "epoch: 191  loss: 0.05167523\n",
      "epoch: 201  loss: 0.05074298\n",
      "epoch: 211  loss: 0.05007675\n",
      "epoch: 221  loss: 0.04940847\n",
      "epoch: 231  loss: 0.04880815\n",
      "epoch: 241  loss: 0.04829729\n",
      "epoch: 251  loss: 0.04784623\n",
      "epoch: 261  loss: 0.04739534\n",
      "epoch: 271  loss: 0.04690465\n",
      "epoch: 281  loss: 0.04647555\n",
      "epoch: 291  loss: 0.04620136\n",
      "epoch: 301  loss: 0.04571205\n",
      "epoch: 311  loss: 0.04541483\n",
      "epoch: 321  loss: 0.04507039\n",
      "epoch: 331  loss: 0.04477985\n",
      "epoch: 341  loss: 0.04454055\n",
      "epoch: 351  loss: 0.04426621\n",
      "epoch: 361  loss: 0.04426200\n",
      "epoch: 371  loss: 0.04375344\n",
      "epoch: 381  loss: 0.04362585\n",
      "epoch: 391  loss: 0.04347346\n",
      "epoch: 401  loss: 0.04316369\n",
      "epoch: 411  loss: 0.04294770\n",
      "epoch: 421  loss: 0.04292511\n",
      "epoch: 431  loss: 0.04277996\n",
      "epoch: 441  loss: 0.04303807\n",
      "epoch: 451  loss: 0.04280006\n",
      "epoch: 461  loss: 0.04229366\n",
      "epoch: 471  loss: 0.04234131\n",
      "epoch: 481  loss: 0.04220993\n",
      "epoch: 491  loss: 0.04219945\n",
      "epoch: 501  loss: 0.04209975\n",
      "epoch: 511  loss: 0.04205688\n",
      "epoch: 521  loss: 0.04183154\n",
      "epoch: 531  loss: 0.04207470\n",
      "epoch: 541  loss: 0.04178762\n",
      "epoch: 551  loss: 0.04181771\n",
      "epoch: 561  loss: 0.04175807\n",
      "epoch: 571  loss: 0.04162687\n",
      "epoch: 581  loss: 0.04170366\n",
      "epoch: 591  loss: 0.04173298\n",
      "epoch: 601  loss: 0.04172624\n",
      "epoch: 611  loss: 0.04167670\n",
      "epoch: 621  loss: 0.04145456\n",
      "epoch: 631  loss: 0.04179778\n",
      "epoch: 641  loss: 0.04205539\n",
      "epoch: 651  loss: 0.04159370\n",
      "epoch: 661  loss: 0.04150177\n",
      "epoch: 671  loss: 0.04153457\n",
      "epoch: 681  loss: 0.04147906\n",
      "epoch: 691  loss: 0.04154365\n",
      "epoch: 701  loss: 0.04149883\n",
      "epoch: 711  loss: 0.04162462\n",
      "epoch: 721  loss: 0.04156597\n",
      "epoch: 731  loss: 0.04170879\n",
      "epoch: 741  loss: 0.04163394\n",
      "epoch: 751  loss: 0.04156809\n",
      "epoch: 761  loss: 0.04142110\n",
      "epoch: 771  loss: 0.04158336\n",
      "epoch: 781  loss: 0.04169286\n",
      "epoch: 791  loss: 0.04136829\n",
      "epoch: 801  loss: 0.04150543\n",
      "epoch: 811  loss: 0.04136914\n",
      "epoch: 821  loss: 0.04151259\n",
      "epoch: 831  loss: 0.04155282\n",
      "epoch: 841  loss: 0.04151179\n",
      "epoch: 851  loss: 0.04133410\n",
      "epoch: 861  loss: 0.04148597\n",
      "epoch: 871  loss: 0.04144767\n",
      "epoch: 881  loss: 0.04141493\n",
      "epoch: 891  loss: 0.04158526\n",
      "epoch: 901  loss: 0.04171210\n",
      "epoch: 911  loss: 0.04140051\n",
      "epoch: 921  loss: 0.04143818\n",
      "epoch: 931  loss: 0.04143744\n",
      "epoch: 941  loss: 0.04180417\n",
      "epoch: 951  loss: 0.04142644\n",
      "epoch: 961  loss: 0.04158239\n",
      "epoch: 971  loss: 0.04137393\n",
      "epoch: 981  loss: 0.04137566\n",
      "epoch: 991  loss: 0.04147099\n",
      "TOTAL TRAINING TIME: 10.076796293258667\n"
     ]
    }
   ],
   "source": [
    "import time\n",
    "epochs = 1000\n",
    "losses = []\n",
    "start = time.time()\n",
    "for i in range(epochs):\n",
    "    i+=1\n",
    "    y_pred = gpumodel.forward(X_train)\n",
    "    loss = criterion(y_pred, y_train)\n",
    "    losses.append(loss)\n",
    "    \n",
    "    # a neat trick to save screen space:\n",
    "    if i%10 == 1:\n",
    "        print(f'epoch: {i:2}  loss: {loss.item():10.8f}')\n",
    "\n",
    "    optimizer.zero_grad()\n",
    "    loss.backward()\n",
    "    optimizer.step()\n",
    "    \n",
    "print(f'TOTAL TRAINING TIME: {time.time()-start}')"
   ]
  }
 ],
 "metadata": {
  "kernelspec": {
   "display_name": "Python 3",
   "language": "python",
   "name": "python3"
  },
  "language_info": {
   "codemirror_mode": {
    "name": "ipython",
    "version": 3
   },
   "file_extension": ".py",
   "mimetype": "text/x-python",
   "name": "python",
   "nbconvert_exporter": "python",
   "pygments_lexer": "ipython3",
   "version": "3.8.8"
  }
 },
 "nbformat": 4,
 "nbformat_minor": 5
}
